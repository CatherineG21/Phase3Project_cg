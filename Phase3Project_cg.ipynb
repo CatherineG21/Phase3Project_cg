{
 "cells": [
  {
   "cell_type": "markdown",
   "metadata": {},
   "source": [
    "# Business Understanding / Problem Definition\n",
    "\n",
    "## Project Goal\n",
    "Build a classification model to predict which SyriaTel customers will churn, so the company can target retention efforts on high-risk customers before they leave.\n",
    "\n",
    "## Context\n",
    "Customer churn is a critical business challenge in the telecommunications industry, directly impacting revenue and growth. Insights from customer behavior patterns can help companies like SyriaTel develop targeted retention strategies and improve customer loyalty. Understanding the factors that influence customer churn enables businesses to proactively address issues and enhance customer experience.\n",
    "\n",
    "### Stakeholder\n",
    "SyriaTel's Chief Marketing Officer and Customer Retention Team are responsible for maintaining customer relationships and reducing churn. Predictive insights from this analysis will help them identify at-risk customers and optimize retention resource allocation.\n",
    "\n",
    "### Problem Statement\n",
    "This project aims to predict whether a customer will churn (stop using SyriaTel's services) based on usage patterns, account information, and customer service interactions. By modeling churn likelihood, we can:\n",
    "\n",
    "1. Identify key factors associated with customer churn.\n",
    "\n",
    "2. Predict churn probability for individual customers.\n",
    "\n",
    "3. Enable targeted retention campaigns and personalized interventions.\n",
    "\n",
    "### Scope and Evaluation\n",
    "\n",
    "The analysis includes:\n",
    "\n",
    "1. Exploratory Data Analysis (EDA).\n",
    "\n",
    "2. Feature engineering and preprocessing.\n",
    "\n",
    "3. Model training using classification algorithms.\n",
    "\n",
    "4. Evaluation using accuracy, precision, recall, F1-score, and primarily ROC-AUC to measure model performance.\n",
    "\n",
    "\n",
    "### Business Value\n",
    "Predictive insights enable SyriaTel to:\n",
    "\n",
    "1. Identify high-risk customers before they leave.\n",
    "\n",
    "2. Design personalized retention offers and interventions.\n",
    "\n",
    "3. Reduce customer acquisition costs by improving retention rates.\n",
    "\n",
    "4. Increase customer lifetime value and overall profitability.\n",
    "\n"
   ]
  },
  {
   "cell_type": "code",
   "execution_count": 1,
   "metadata": {},
   "outputs": [],
   "source": [
    "# Suppress warnings\n",
    "import warnings\n",
    "warnings.filterwarnings('ignore')\n",
    "\n",
    "#import libraries\n",
    "import pandas as pd\n",
    "import numpy as np\n",
    "import matplotlib.pyplot as plt\n",
    "import seaborn as sns\n",
    "import statsmodels.api as sm\n",
    "\n",
    "from sklearn.preprocessing import PolynomialFeatures, StandardScaler\n",
    "from sklearn.linear_model import LinearRegression \n",
    "from sklearn.model_selection import train_test_split\n",
    "\n"
   ]
  },
  {
   "cell_type": "code",
   "execution_count": 2,
   "metadata": {},
   "outputs": [],
   "source": [
    "# Load CSV file\n",
    "df = pd.read_csv('SyriaTel.csv')"
   ]
  },
  {
   "cell_type": "markdown",
   "metadata": {},
   "source": [
    "## Data Understanding\n",
    "\n",
    "Perform EDA (Exploratory Data Analysis) by:\n",
    "\n",
    "* Exploring data structure, correlations and visualizations      \n"
   ]
  },
  {
   "cell_type": "code",
   "execution_count": 3,
   "metadata": {},
   "outputs": [
    {
     "data": {
      "text/html": [
       "<div>\n",
       "<style scoped>\n",
       "    .dataframe tbody tr th:only-of-type {\n",
       "        vertical-align: middle;\n",
       "    }\n",
       "\n",
       "    .dataframe tbody tr th {\n",
       "        vertical-align: top;\n",
       "    }\n",
       "\n",
       "    .dataframe thead th {\n",
       "        text-align: right;\n",
       "    }\n",
       "</style>\n",
       "<table border=\"1\" class=\"dataframe\">\n",
       "  <thead>\n",
       "    <tr style=\"text-align: right;\">\n",
       "      <th></th>\n",
       "      <th>state</th>\n",
       "      <th>account length</th>\n",
       "      <th>area code</th>\n",
       "      <th>phone number</th>\n",
       "      <th>international plan</th>\n",
       "      <th>voice mail plan</th>\n",
       "      <th>number vmail messages</th>\n",
       "      <th>total day minutes</th>\n",
       "      <th>total day calls</th>\n",
       "      <th>total day charge</th>\n",
       "      <th>...</th>\n",
       "      <th>total eve calls</th>\n",
       "      <th>total eve charge</th>\n",
       "      <th>total night minutes</th>\n",
       "      <th>total night calls</th>\n",
       "      <th>total night charge</th>\n",
       "      <th>total intl minutes</th>\n",
       "      <th>total intl calls</th>\n",
       "      <th>total intl charge</th>\n",
       "      <th>customer service calls</th>\n",
       "      <th>churn</th>\n",
       "    </tr>\n",
       "  </thead>\n",
       "  <tbody>\n",
       "    <tr>\n",
       "      <th>0</th>\n",
       "      <td>KS</td>\n",
       "      <td>128</td>\n",
       "      <td>415</td>\n",
       "      <td>382-4657</td>\n",
       "      <td>no</td>\n",
       "      <td>yes</td>\n",
       "      <td>25</td>\n",
       "      <td>265.1</td>\n",
       "      <td>110</td>\n",
       "      <td>45.07</td>\n",
       "      <td>...</td>\n",
       "      <td>99</td>\n",
       "      <td>16.78</td>\n",
       "      <td>244.7</td>\n",
       "      <td>91</td>\n",
       "      <td>11.01</td>\n",
       "      <td>10.0</td>\n",
       "      <td>3</td>\n",
       "      <td>2.70</td>\n",
       "      <td>1</td>\n",
       "      <td>False</td>\n",
       "    </tr>\n",
       "    <tr>\n",
       "      <th>1</th>\n",
       "      <td>OH</td>\n",
       "      <td>107</td>\n",
       "      <td>415</td>\n",
       "      <td>371-7191</td>\n",
       "      <td>no</td>\n",
       "      <td>yes</td>\n",
       "      <td>26</td>\n",
       "      <td>161.6</td>\n",
       "      <td>123</td>\n",
       "      <td>27.47</td>\n",
       "      <td>...</td>\n",
       "      <td>103</td>\n",
       "      <td>16.62</td>\n",
       "      <td>254.4</td>\n",
       "      <td>103</td>\n",
       "      <td>11.45</td>\n",
       "      <td>13.7</td>\n",
       "      <td>3</td>\n",
       "      <td>3.70</td>\n",
       "      <td>1</td>\n",
       "      <td>False</td>\n",
       "    </tr>\n",
       "    <tr>\n",
       "      <th>2</th>\n",
       "      <td>NJ</td>\n",
       "      <td>137</td>\n",
       "      <td>415</td>\n",
       "      <td>358-1921</td>\n",
       "      <td>no</td>\n",
       "      <td>no</td>\n",
       "      <td>0</td>\n",
       "      <td>243.4</td>\n",
       "      <td>114</td>\n",
       "      <td>41.38</td>\n",
       "      <td>...</td>\n",
       "      <td>110</td>\n",
       "      <td>10.30</td>\n",
       "      <td>162.6</td>\n",
       "      <td>104</td>\n",
       "      <td>7.32</td>\n",
       "      <td>12.2</td>\n",
       "      <td>5</td>\n",
       "      <td>3.29</td>\n",
       "      <td>0</td>\n",
       "      <td>False</td>\n",
       "    </tr>\n",
       "    <tr>\n",
       "      <th>3</th>\n",
       "      <td>OH</td>\n",
       "      <td>84</td>\n",
       "      <td>408</td>\n",
       "      <td>375-9999</td>\n",
       "      <td>yes</td>\n",
       "      <td>no</td>\n",
       "      <td>0</td>\n",
       "      <td>299.4</td>\n",
       "      <td>71</td>\n",
       "      <td>50.90</td>\n",
       "      <td>...</td>\n",
       "      <td>88</td>\n",
       "      <td>5.26</td>\n",
       "      <td>196.9</td>\n",
       "      <td>89</td>\n",
       "      <td>8.86</td>\n",
       "      <td>6.6</td>\n",
       "      <td>7</td>\n",
       "      <td>1.78</td>\n",
       "      <td>2</td>\n",
       "      <td>False</td>\n",
       "    </tr>\n",
       "    <tr>\n",
       "      <th>4</th>\n",
       "      <td>OK</td>\n",
       "      <td>75</td>\n",
       "      <td>415</td>\n",
       "      <td>330-6626</td>\n",
       "      <td>yes</td>\n",
       "      <td>no</td>\n",
       "      <td>0</td>\n",
       "      <td>166.7</td>\n",
       "      <td>113</td>\n",
       "      <td>28.34</td>\n",
       "      <td>...</td>\n",
       "      <td>122</td>\n",
       "      <td>12.61</td>\n",
       "      <td>186.9</td>\n",
       "      <td>121</td>\n",
       "      <td>8.41</td>\n",
       "      <td>10.1</td>\n",
       "      <td>3</td>\n",
       "      <td>2.73</td>\n",
       "      <td>3</td>\n",
       "      <td>False</td>\n",
       "    </tr>\n",
       "  </tbody>\n",
       "</table>\n",
       "<p>5 rows × 21 columns</p>\n",
       "</div>"
      ],
      "text/plain": [
       "  state  account length  area code phone number international plan  \\\n",
       "0    KS             128        415     382-4657                 no   \n",
       "1    OH             107        415     371-7191                 no   \n",
       "2    NJ             137        415     358-1921                 no   \n",
       "3    OH              84        408     375-9999                yes   \n",
       "4    OK              75        415     330-6626                yes   \n",
       "\n",
       "  voice mail plan  number vmail messages  total day minutes  total day calls  \\\n",
       "0             yes                     25              265.1              110   \n",
       "1             yes                     26              161.6              123   \n",
       "2              no                      0              243.4              114   \n",
       "3              no                      0              299.4               71   \n",
       "4              no                      0              166.7              113   \n",
       "\n",
       "   total day charge  ...  total eve calls  total eve charge  \\\n",
       "0             45.07  ...               99             16.78   \n",
       "1             27.47  ...              103             16.62   \n",
       "2             41.38  ...              110             10.30   \n",
       "3             50.90  ...               88              5.26   \n",
       "4             28.34  ...              122             12.61   \n",
       "\n",
       "   total night minutes  total night calls  total night charge  \\\n",
       "0                244.7                 91               11.01   \n",
       "1                254.4                103               11.45   \n",
       "2                162.6                104                7.32   \n",
       "3                196.9                 89                8.86   \n",
       "4                186.9                121                8.41   \n",
       "\n",
       "   total intl minutes  total intl calls  total intl charge  \\\n",
       "0                10.0                 3               2.70   \n",
       "1                13.7                 3               3.70   \n",
       "2                12.2                 5               3.29   \n",
       "3                 6.6                 7               1.78   \n",
       "4                10.1                 3               2.73   \n",
       "\n",
       "   customer service calls  churn  \n",
       "0                       1  False  \n",
       "1                       1  False  \n",
       "2                       0  False  \n",
       "3                       2  False  \n",
       "4                       3  False  \n",
       "\n",
       "[5 rows x 21 columns]"
      ]
     },
     "execution_count": 3,
     "metadata": {},
     "output_type": "execute_result"
    }
   ],
   "source": [
    "# Check dataset\n",
    "df.head(5)"
   ]
  },
  {
   "cell_type": "code",
   "execution_count": 4,
   "metadata": {},
   "outputs": [
    {
     "data": {
      "text/plain": [
       "state                      object\n",
       "account length              int64\n",
       "area code                   int64\n",
       "phone number               object\n",
       "international plan         object\n",
       "voice mail plan            object\n",
       "number vmail messages       int64\n",
       "total day minutes         float64\n",
       "total day calls             int64\n",
       "total day charge          float64\n",
       "total eve minutes         float64\n",
       "total eve calls             int64\n",
       "total eve charge          float64\n",
       "total night minutes       float64\n",
       "total night calls           int64\n",
       "total night charge        float64\n",
       "total intl minutes        float64\n",
       "total intl calls            int64\n",
       "total intl charge         float64\n",
       "customer service calls      int64\n",
       "churn                        bool\n",
       "dtype: object"
      ]
     },
     "execution_count": 4,
     "metadata": {},
     "output_type": "execute_result"
    }
   ],
   "source": [
    "df.dtypes"
   ]
  },
  {
   "cell_type": "code",
   "execution_count": 5,
   "metadata": {},
   "outputs": [
    {
     "data": {
      "text/plain": [
       "(3333, 21)"
      ]
     },
     "execution_count": 5,
     "metadata": {},
     "output_type": "execute_result"
    }
   ],
   "source": [
    "df.shape"
   ]
  },
  {
   "cell_type": "code",
   "execution_count": 6,
   "metadata": {},
   "outputs": [
    {
     "data": {
      "text/html": [
       "<div>\n",
       "<style scoped>\n",
       "    .dataframe tbody tr th:only-of-type {\n",
       "        vertical-align: middle;\n",
       "    }\n",
       "\n",
       "    .dataframe tbody tr th {\n",
       "        vertical-align: top;\n",
       "    }\n",
       "\n",
       "    .dataframe thead th {\n",
       "        text-align: right;\n",
       "    }\n",
       "</style>\n",
       "<table border=\"1\" class=\"dataframe\">\n",
       "  <thead>\n",
       "    <tr style=\"text-align: right;\">\n",
       "      <th></th>\n",
       "      <th>account length</th>\n",
       "      <th>area code</th>\n",
       "      <th>number vmail messages</th>\n",
       "      <th>total day minutes</th>\n",
       "      <th>total day calls</th>\n",
       "      <th>total day charge</th>\n",
       "      <th>total eve minutes</th>\n",
       "      <th>total eve calls</th>\n",
       "      <th>total eve charge</th>\n",
       "      <th>total night minutes</th>\n",
       "      <th>total night calls</th>\n",
       "      <th>total night charge</th>\n",
       "      <th>total intl minutes</th>\n",
       "      <th>total intl calls</th>\n",
       "      <th>total intl charge</th>\n",
       "      <th>customer service calls</th>\n",
       "    </tr>\n",
       "  </thead>\n",
       "  <tbody>\n",
       "    <tr>\n",
       "      <th>count</th>\n",
       "      <td>3333.000000</td>\n",
       "      <td>3333.000000</td>\n",
       "      <td>3333.000000</td>\n",
       "      <td>3333.000000</td>\n",
       "      <td>3333.000000</td>\n",
       "      <td>3333.000000</td>\n",
       "      <td>3333.000000</td>\n",
       "      <td>3333.000000</td>\n",
       "      <td>3333.000000</td>\n",
       "      <td>3333.000000</td>\n",
       "      <td>3333.000000</td>\n",
       "      <td>3333.000000</td>\n",
       "      <td>3333.000000</td>\n",
       "      <td>3333.000000</td>\n",
       "      <td>3333.000000</td>\n",
       "      <td>3333.000000</td>\n",
       "    </tr>\n",
       "    <tr>\n",
       "      <th>mean</th>\n",
       "      <td>101.064806</td>\n",
       "      <td>437.182418</td>\n",
       "      <td>8.099010</td>\n",
       "      <td>179.775098</td>\n",
       "      <td>100.435644</td>\n",
       "      <td>30.562307</td>\n",
       "      <td>200.980348</td>\n",
       "      <td>100.114311</td>\n",
       "      <td>17.083540</td>\n",
       "      <td>200.872037</td>\n",
       "      <td>100.107711</td>\n",
       "      <td>9.039325</td>\n",
       "      <td>10.237294</td>\n",
       "      <td>4.479448</td>\n",
       "      <td>2.764581</td>\n",
       "      <td>1.562856</td>\n",
       "    </tr>\n",
       "    <tr>\n",
       "      <th>std</th>\n",
       "      <td>39.822106</td>\n",
       "      <td>42.371290</td>\n",
       "      <td>13.688365</td>\n",
       "      <td>54.467389</td>\n",
       "      <td>20.069084</td>\n",
       "      <td>9.259435</td>\n",
       "      <td>50.713844</td>\n",
       "      <td>19.922625</td>\n",
       "      <td>4.310668</td>\n",
       "      <td>50.573847</td>\n",
       "      <td>19.568609</td>\n",
       "      <td>2.275873</td>\n",
       "      <td>2.791840</td>\n",
       "      <td>2.461214</td>\n",
       "      <td>0.753773</td>\n",
       "      <td>1.315491</td>\n",
       "    </tr>\n",
       "    <tr>\n",
       "      <th>min</th>\n",
       "      <td>1.000000</td>\n",
       "      <td>408.000000</td>\n",
       "      <td>0.000000</td>\n",
       "      <td>0.000000</td>\n",
       "      <td>0.000000</td>\n",
       "      <td>0.000000</td>\n",
       "      <td>0.000000</td>\n",
       "      <td>0.000000</td>\n",
       "      <td>0.000000</td>\n",
       "      <td>23.200000</td>\n",
       "      <td>33.000000</td>\n",
       "      <td>1.040000</td>\n",
       "      <td>0.000000</td>\n",
       "      <td>0.000000</td>\n",
       "      <td>0.000000</td>\n",
       "      <td>0.000000</td>\n",
       "    </tr>\n",
       "    <tr>\n",
       "      <th>25%</th>\n",
       "      <td>74.000000</td>\n",
       "      <td>408.000000</td>\n",
       "      <td>0.000000</td>\n",
       "      <td>143.700000</td>\n",
       "      <td>87.000000</td>\n",
       "      <td>24.430000</td>\n",
       "      <td>166.600000</td>\n",
       "      <td>87.000000</td>\n",
       "      <td>14.160000</td>\n",
       "      <td>167.000000</td>\n",
       "      <td>87.000000</td>\n",
       "      <td>7.520000</td>\n",
       "      <td>8.500000</td>\n",
       "      <td>3.000000</td>\n",
       "      <td>2.300000</td>\n",
       "      <td>1.000000</td>\n",
       "    </tr>\n",
       "    <tr>\n",
       "      <th>50%</th>\n",
       "      <td>101.000000</td>\n",
       "      <td>415.000000</td>\n",
       "      <td>0.000000</td>\n",
       "      <td>179.400000</td>\n",
       "      <td>101.000000</td>\n",
       "      <td>30.500000</td>\n",
       "      <td>201.400000</td>\n",
       "      <td>100.000000</td>\n",
       "      <td>17.120000</td>\n",
       "      <td>201.200000</td>\n",
       "      <td>100.000000</td>\n",
       "      <td>9.050000</td>\n",
       "      <td>10.300000</td>\n",
       "      <td>4.000000</td>\n",
       "      <td>2.780000</td>\n",
       "      <td>1.000000</td>\n",
       "    </tr>\n",
       "    <tr>\n",
       "      <th>75%</th>\n",
       "      <td>127.000000</td>\n",
       "      <td>510.000000</td>\n",
       "      <td>20.000000</td>\n",
       "      <td>216.400000</td>\n",
       "      <td>114.000000</td>\n",
       "      <td>36.790000</td>\n",
       "      <td>235.300000</td>\n",
       "      <td>114.000000</td>\n",
       "      <td>20.000000</td>\n",
       "      <td>235.300000</td>\n",
       "      <td>113.000000</td>\n",
       "      <td>10.590000</td>\n",
       "      <td>12.100000</td>\n",
       "      <td>6.000000</td>\n",
       "      <td>3.270000</td>\n",
       "      <td>2.000000</td>\n",
       "    </tr>\n",
       "    <tr>\n",
       "      <th>max</th>\n",
       "      <td>243.000000</td>\n",
       "      <td>510.000000</td>\n",
       "      <td>51.000000</td>\n",
       "      <td>350.800000</td>\n",
       "      <td>165.000000</td>\n",
       "      <td>59.640000</td>\n",
       "      <td>363.700000</td>\n",
       "      <td>170.000000</td>\n",
       "      <td>30.910000</td>\n",
       "      <td>395.000000</td>\n",
       "      <td>175.000000</td>\n",
       "      <td>17.770000</td>\n",
       "      <td>20.000000</td>\n",
       "      <td>20.000000</td>\n",
       "      <td>5.400000</td>\n",
       "      <td>9.000000</td>\n",
       "    </tr>\n",
       "  </tbody>\n",
       "</table>\n",
       "</div>"
      ],
      "text/plain": [
       "       account length    area code  number vmail messages  total day minutes  \\\n",
       "count     3333.000000  3333.000000            3333.000000        3333.000000   \n",
       "mean       101.064806   437.182418               8.099010         179.775098   \n",
       "std         39.822106    42.371290              13.688365          54.467389   \n",
       "min          1.000000   408.000000               0.000000           0.000000   \n",
       "25%         74.000000   408.000000               0.000000         143.700000   \n",
       "50%        101.000000   415.000000               0.000000         179.400000   \n",
       "75%        127.000000   510.000000              20.000000         216.400000   \n",
       "max        243.000000   510.000000              51.000000         350.800000   \n",
       "\n",
       "       total day calls  total day charge  total eve minutes  total eve calls  \\\n",
       "count      3333.000000       3333.000000        3333.000000      3333.000000   \n",
       "mean        100.435644         30.562307         200.980348       100.114311   \n",
       "std          20.069084          9.259435          50.713844        19.922625   \n",
       "min           0.000000          0.000000           0.000000         0.000000   \n",
       "25%          87.000000         24.430000         166.600000        87.000000   \n",
       "50%         101.000000         30.500000         201.400000       100.000000   \n",
       "75%         114.000000         36.790000         235.300000       114.000000   \n",
       "max         165.000000         59.640000         363.700000       170.000000   \n",
       "\n",
       "       total eve charge  total night minutes  total night calls  \\\n",
       "count       3333.000000          3333.000000        3333.000000   \n",
       "mean          17.083540           200.872037         100.107711   \n",
       "std            4.310668            50.573847          19.568609   \n",
       "min            0.000000            23.200000          33.000000   \n",
       "25%           14.160000           167.000000          87.000000   \n",
       "50%           17.120000           201.200000         100.000000   \n",
       "75%           20.000000           235.300000         113.000000   \n",
       "max           30.910000           395.000000         175.000000   \n",
       "\n",
       "       total night charge  total intl minutes  total intl calls  \\\n",
       "count         3333.000000         3333.000000       3333.000000   \n",
       "mean             9.039325           10.237294          4.479448   \n",
       "std              2.275873            2.791840          2.461214   \n",
       "min              1.040000            0.000000          0.000000   \n",
       "25%              7.520000            8.500000          3.000000   \n",
       "50%              9.050000           10.300000          4.000000   \n",
       "75%             10.590000           12.100000          6.000000   \n",
       "max             17.770000           20.000000         20.000000   \n",
       "\n",
       "       total intl charge  customer service calls  \n",
       "count        3333.000000             3333.000000  \n",
       "mean            2.764581                1.562856  \n",
       "std             0.753773                1.315491  \n",
       "min             0.000000                0.000000  \n",
       "25%             2.300000                1.000000  \n",
       "50%             2.780000                1.000000  \n",
       "75%             3.270000                2.000000  \n",
       "max             5.400000                9.000000  "
      ]
     },
     "execution_count": 6,
     "metadata": {},
     "output_type": "execute_result"
    }
   ],
   "source": [
    "df.describe()"
   ]
  },
  {
   "cell_type": "markdown",
   "metadata": {},
   "source": [
    "### Visualizations before cleaning"
   ]
  },
  {
   "cell_type": "code",
   "execution_count": 7,
   "metadata": {},
   "outputs": [
    {
     "data": {
      "image/png": "[encoded data removed]",
      "text/plain": [
       "<Figure size 864x720 with 16 Axes>"
      ]
     },
     "metadata": {
      "needs_background": "light"
     },
     "output_type": "display_data"
    }
   ],
   "source": [
    "# Feature distributions before data cleaning\n",
    "df.select_dtypes(include=[np.number]).hist(bins=30, figsize=(12, 10))\n",
    "plt.suptitle('Feature Distributions')\n",
    "plt.show()"
   ]
  },
  {
   "cell_type": "markdown",
   "metadata": {},
   "source": [
    "## Data Cleaning\n",
    "\n",
    "1. Handle missing values and duplicates\n",
    "2. Standardize column names\n",
    "3. Convert data types and encode categorical variables\n",
    "4. Remove non-predictive and highly correlated features\n",
    "5. Normalize numeric data\n",
    "6. One-hot encode remaining categorical variables"
   ]
  },
  {
   "cell_type": "code",
   "execution_count": 8,
   "metadata": {},
   "outputs": [
    {
     "name": "stdout",
     "output_type": "stream",
     "text": [
      "Missing values:\n",
      "state                     0\n",
      "account length            0\n",
      "area code                 0\n",
      "phone number              0\n",
      "international plan        0\n",
      "voice mail plan           0\n",
      "number vmail messages     0\n",
      "total day minutes         0\n",
      "total day calls           0\n",
      "total day charge          0\n",
      "total eve minutes         0\n",
      "total eve calls           0\n",
      "total eve charge          0\n",
      "total night minutes       0\n",
      "total night calls         0\n",
      "total night charge        0\n",
      "total intl minutes        0\n",
      "total intl calls          0\n",
      "total intl charge         0\n",
      "customer service calls    0\n",
      "churn                     0\n",
      "dtype: int64\n"
     ]
    }
   ],
   "source": [
    "# Missing values\n",
    "print(\"Missing values:\")\n",
    "print(df.isnull().sum())"
   ]
  },
  {
   "cell_type": "code",
   "execution_count": 9,
   "metadata": {},
   "outputs": [
    {
     "name": "stdout",
     "output_type": "stream",
     "text": [
      "Number of duplicate rows: 0\n"
     ]
    }
   ],
   "source": [
    "# Check for duplicates\n",
    "print(\"Number of duplicate rows:\", df.duplicated().sum())"
   ]
  },
  {
   "cell_type": "code",
   "execution_count": 10,
   "metadata": {},
   "outputs": [
    {
     "name": "stdout",
     "output_type": "stream",
     "text": [
      "Column names with underscores:\n",
      "['state', 'account_length', 'area_code', 'phone_number', 'international_plan', 'voice_mail_plan', 'number_vmail_messages', 'total_day_minutes', 'total_day_calls', 'total_day_charge', 'total_eve_minutes', 'total_eve_calls', 'total_eve_charge', 'total_night_minutes', 'total_night_calls', 'total_night_charge', 'total_intl_minutes', 'total_intl_calls', 'total_intl_charge', 'customer_service_calls', 'churn']\n"
     ]
    }
   ],
   "source": [
    "# Replace spaces with underscores in column names\n",
    "df.columns = df.columns.str.replace(' ', '_')\n",
    "print(\"Column names with underscores:\")\n",
    "print(df.columns.tolist())"
   ]
  },
  {
   "cell_type": "code",
   "execution_count": 11,
   "metadata": {},
   "outputs": [
    {
     "name": "stdout",
     "output_type": "stream",
     "text": [
      "Column names after removing white spaces:\n",
      "['state', 'account_length', 'area_code', 'phone_number', 'international_plan', 'voice_mail_plan', 'number_vmail_messages', 'total_day_minutes', 'total_day_calls', 'total_day_charge', 'total_eve_minutes', 'total_eve_calls', 'total_eve_charge', 'total_night_minutes', 'total_night_calls', 'total_night_charge', 'total_intl_minutes', 'total_intl_calls', 'total_intl_charge', 'customer_service_calls', 'churn']\n"
     ]
    }
   ],
   "source": [
    "# Remove white spaces from column names\n",
    "df.columns = df.columns.str.strip()\n",
    "\n",
    "print(\"Column names after removing white spaces:\")\n",
    "print(df.columns.tolist())"
   ]
  },
  {
   "cell_type": "code",
   "execution_count": 12,
   "metadata": {},
   "outputs": [
    {
     "name": "stdout",
     "output_type": "stream",
     "text": [
      "Current columns:\n",
      "['state', 'account_length', 'area_code', 'phone_number', 'international_plan', 'voice_mail_plan', 'number_vmail_messages', 'total_day_minutes', 'total_day_calls', 'total_day_charge', 'total_eve_minutes', 'total_eve_calls', 'total_eve_charge', 'total_night_minutes', 'total_night_calls', 'total_night_charge', 'total_intl_minutes', 'total_intl_calls', 'total_intl_charge', 'customer_service_calls', 'churn']\n",
      "\n",
      "Shape: (3333, 21)\n"
     ]
    }
   ],
   "source": [
    "# Check current column names\n",
    "print(\"Current columns:\")\n",
    "print(df.columns.tolist())\n",
    "\n",
    "# Check if you already dropped these columns\n",
    "print(\"\\nShape:\", df.shape)"
   ]
  },
  {
   "cell_type": "code",
   "execution_count": 13,
   "metadata": {},
   "outputs": [
    {
     "name": "stdout",
     "output_type": "stream",
     "text": [
      "state                      object\n",
      "account_length              int64\n",
      "area_code                   int64\n",
      "phone_number               object\n",
      "international_plan          int64\n",
      "voice_mail_plan             int64\n",
      "number_vmail_messages       int64\n",
      "total_day_minutes         float64\n",
      "total_day_calls             int64\n",
      "total_day_charge          float64\n",
      "total_eve_minutes         float64\n",
      "total_eve_calls             int64\n",
      "total_eve_charge          float64\n",
      "total_night_minutes       float64\n",
      "total_night_calls           int64\n",
      "total_night_charge        float64\n",
      "total_intl_minutes        float64\n",
      "total_intl_calls            int64\n",
      "total_intl_charge         float64\n",
      "customer_service_calls      int64\n",
      "churn                       int32\n",
      "dtype: object\n"
     ]
    }
   ],
   "source": [
    "# Data type conversions\n",
    "df['churn'] = df['churn'].astype(int)\n",
    "df['international_plan'] = df['international_plan'].map({'yes': 1, 'no': 0})\n",
    "df['voice_mail_plan'] = df['voice_mail_plan'].map({'yes': 1, 'no': 0})\n",
    "\n",
    "print(df.dtypes)\n"
   ]
  },
  {
   "cell_type": "code",
   "execution_count": 14,
   "metadata": {},
   "outputs": [
    {
     "name": "stdout",
     "output_type": "stream",
     "text": [
      "Dropped phone_number - unique identifier, no predictive value\n",
      "New shape: (3333, 20)\n"
     ]
    }
   ],
   "source": [
    "# Drop phone number - unique identifier not useful for prediction\n",
    "df = df.drop('phone_number', axis=1)\n",
    "print(\"Dropped phone_number - unique identifier, no predictive value\")\n",
    "print(\"New shape:\", df.shape)"
   ]
  },
  {
   "cell_type": "markdown",
   "metadata": {},
   "source": [
    "#### Checking for and removing multicollinearity (correlated predictors)\n"
   ]
  },
  {
   "cell_type": "code",
   "execution_count": 15,
   "metadata": {},
   "outputs": [
    {
     "name": "stdout",
     "output_type": "stream",
     "text": [
      "Highly correlated pairs (>0.8):\n",
      "number_vmail_messages - voice_mail_plan: 0.957\n",
      "total_day_charge - total_day_minutes: 1.000\n",
      "total_eve_charge - total_eve_minutes: 1.000\n",
      "total_night_charge - total_night_minutes: 1.000\n",
      "total_intl_charge - total_intl_minutes: 1.000\n"
     ]
    }
   ],
   "source": [
    "# Create the correlation matrix\n",
    "correlation_matrix = df.corr()\n",
    "\n",
    "# Find highly correlated pairs\n",
    "high_corr_pairs = []\n",
    "for i in range(len(correlation_matrix.columns)):\n",
    "    for j in range(i):\n",
    "        if abs(correlation_matrix.iloc[i, j]) > 0.8:\n",
    "            high_corr_pairs.append((\n",
    "                correlation_matrix.columns[i],\n",
    "                correlation_matrix.columns[j], \n",
    "                correlation_matrix.iloc[i, j]\n",
    "            ))\n",
    "\n",
    "print(\"Highly correlated pairs (>0.8):\")\n",
    "for pair in high_corr_pairs:\n",
    "    print(f\"{pair[0]} - {pair[1]}: {pair[2]:.3f}\")\n"
   ]
  },
  {
   "cell_type": "code",
   "execution_count": 16,
   "metadata": {},
   "outputs": [
    {
     "name": "stdout",
     "output_type": "stream",
     "text": [
      "Removed charge columns. New shape: (3333, 16)\n"
     ]
    }
   ],
   "source": [
    "df = df.drop(['total_day_charge', 'total_eve_charge', 'total_night_charge', 'total_intl_charge'], axis=1)\n",
    "print(\"Removed charge columns. New shape:\", df.shape)"
   ]
  },
  {
   "cell_type": "markdown",
   "metadata": {},
   "source": [
    "#### Normalizing numeric data"
   ]
  },
  {
   "cell_type": "code",
   "execution_count": 17,
   "metadata": {},
   "outputs": [
    {
     "name": "stdout",
     "output_type": "stream",
     "text": [
      "Numeric data normalized\n"
     ]
    }
   ],
   "source": [
    "scaler = StandardScaler()\n",
    "numeric_cols = df.select_dtypes(include=[np.number]).columns\n",
    "df[numeric_cols] = scaler.fit_transform(df[numeric_cols])\n",
    "\n",
    "print(\"Numeric data normalized\")"
   ]
  },
  {
   "cell_type": "code",
   "execution_count": 18,
   "metadata": {},
   "outputs": [
    {
     "data": {
      "image/png": "[encoded data removed]",
      "text/plain": [
       "<Figure size 864x720 with 16 Axes>"
      ]
     },
     "metadata": {
      "needs_background": "light"
     },
     "output_type": "display_data"
    }
   ],
   "source": [
    "# Feature distributions after data cleaning\n",
    "df.select_dtypes(include=[np.number]).hist(bins=30, figsize=(12, 10))\n",
    "plt.suptitle('Feature Distributions After Cleaning')\n",
    "plt.show()"
   ]
  },
  {
   "cell_type": "code",
   "execution_count": 19,
   "metadata": {},
   "outputs": [
    {
     "name": "stdout",
     "output_type": "stream",
     "text": [
      "Dropped empty columns after conversion\n",
      "Final shape: (3333, 14)\n"
     ]
    }
   ],
   "source": [
    "# Drop international_plan and voice_mail_plan - they're empty after conversion\n",
    "df = df.drop(['international_plan', 'voice_mail_plan'], axis=1)\n",
    "print(\"Dropped empty columns after conversion\")\n",
    "print(\"Final shape:\", df.shape)"
   ]
  },
  {
   "cell_type": "markdown",
   "metadata": {},
   "source": [
    "#### Convert categorical data to numeric format through one-hot encoding"
   ]
  },
  {
   "cell_type": "code",
   "execution_count": 20,
   "metadata": {},
   "outputs": [
    {
     "name": "stdout",
     "output_type": "stream",
     "text": [
      "One-hot encoding completed. New shape: (3333, 63)\n"
     ]
    }
   ],
   "source": [
    "# One-hot encode the 'state' column\n",
    "df = pd.get_dummies(df, columns=['state'], drop_first=True)\n",
    "print(\"One-hot encoding completed. New shape:\", df.shape)"
   ]
  },
  {
   "cell_type": "code",
   "execution_count": 21,
   "metadata": {},
   "outputs": [
    {
     "name": "stdout",
     "output_type": "stream",
     "text": [
      "Sample values from state columns:\n",
      "   state_AL  state_AR  state_AZ  state_CA  state_CO  state_CT  state_DC  \\\n",
      "0         0         0         0         0         0         0         0   \n",
      "1         0         0         0         0         0         0         0   \n",
      "2         0         0         0         0         0         0         0   \n",
      "3         0         0         0         0         0         0         0   \n",
      "4         0         0         0         0         0         0         0   \n",
      "\n",
      "   state_DE  state_FL  state_GA  ...  state_SD  state_TN  state_TX  state_UT  \\\n",
      "0         0         0         0  ...         0         0         0         0   \n",
      "1         0         0         0  ...         0         0         0         0   \n",
      "2         0         0         0  ...         0         0         0         0   \n",
      "3         0         0         0  ...         0         0         0         0   \n",
      "4         0         0         0  ...         0         0         0         0   \n",
      "\n",
      "   state_VA  state_VT  state_WA  state_WI  state_WV  state_WY  \n",
      "0         0         0         0         0         0         0  \n",
      "1         0         0         0         0         0         0  \n",
      "2         0         0         0         0         0         0  \n",
      "3         0         0         0         0         0         0  \n",
      "4         0         0         0         0         0         0  \n",
      "\n",
      "[5 rows x 50 columns]\n"
     ]
    }
   ],
   "source": [
    "# Check the values in state columns\n",
    "state_columns = [col for col in df.columns if col.startswith('state_')]\n",
    "print(\"Sample values from state columns:\")\n",
    "print(df[state_columns].head())"
   ]
  },
  {
   "cell_type": "markdown",
   "metadata": {},
   "source": [
    "## Modeling\n",
    "\n",
    "**Classification Task**: Binary classification (churn vs no churn)\n",
    "\n",
    "**Models**:\n",
    "- Logistic Regression (baseline)\n",
    "- Decision Tree (non-parametric)\n",
    "\n",
    "**Validation**: 70-30 train/test split\n",
    "\n",
    "**Overfitting Prevention**:\n",
    "- Regularization for logistic regression\n",
    "- Tree pruning for decision tree\n",
    "- Cross-validation\n",
    "\n",
    "**Performance Targets**:\n",
    "- Primary: ROC-AUC > 0.85\n",
    "- Critical: Recall > 0.80\n",
    "- Minimum: Accuracy > 0.80\n"
   ]
  },
  {
   "cell_type": "code",
   "execution_count": 22,
   "metadata": {},
   "outputs": [
    {
     "name": "stdout",
     "output_type": "stream",
     "text": [
      "Classification: Binary\n",
      "Target variable: churn\n",
      "Classes: [-0.41167182  2.42911941]\n",
      "Class distribution:\n",
      "-0.411672    2850\n",
      " 2.429119     483\n",
      "Name: churn, dtype: int64\n"
     ]
    }
   ],
   "source": [
    "# Classification Task: Binary classification (churn vs no churn)\n",
    "print(\"Classification: Binary\")\n",
    "print(\"Target variable: churn\")\n",
    "print(\"Classes:\", df['churn'].unique())\n",
    "print(\"Class distribution:\")\n",
    "print(df['churn'].value_counts())"
   ]
  },
  {
   "cell_type": "code",
   "execution_count": 23,
   "metadata": {},
   "outputs": [
    {
     "name": "stdout",
     "output_type": "stream",
     "text": [
      "Models initialized:\n",
      "- Logistic Regression (baseline)\n",
      "- Decision Tree (non-parametric)\n"
     ]
    }
   ],
   "source": [
    "# Import models\n",
    "from sklearn.linear_model import LogisticRegression\n",
    "from sklearn.tree import DecisionTreeClassifier\n",
    "\n",
    "# Initialize models\n",
    "logistic_model = LogisticRegression(random_state=42)\n",
    "decision_tree_model = DecisionTreeClassifier(random_state=42)\n",
    "\n",
    "print(\"Models initialized:\")\n",
    "print(\"- Logistic Regression (baseline)\")\n",
    "print(\"- Decision Tree (non-parametric)\")"
   ]
  },
  {
   "cell_type": "code",
   "execution_count": 24,
   "metadata": {},
   "outputs": [
    {
     "name": "stdout",
     "output_type": "stream",
     "text": [
      "Data split completed:\n",
      "Training set: (2333, 62)\n",
      "Testing set: (1000, 62)\n",
      "Target values: [0 1]\n"
     ]
    }
   ],
   "source": [
    "# Fix target column first\n",
    "df['churn'] = (df['churn'] > 0).astype(int)\n",
    "\n",
    "# Split data into features and target\n",
    "X = df.drop('churn', axis=1)\n",
    "y = df['churn']\n",
    "\n",
    "# Train/test split (70-30)\n",
    "from sklearn.model_selection import train_test_split\n",
    "X_train, X_test, y_train, y_test = train_test_split(X, y, test_size=0.3, random_state=42, stratify=y)\n",
    "\n",
    "print(\"Data split completed:\")\n",
    "print(f\"Training set: {X_train.shape}\")\n",
    "print(f\"Testing set: {X_test.shape}\")\n",
    "print(\"Target values:\", y.unique())"
   ]
  },
  {
   "cell_type": "code",
   "execution_count": 25,
   "metadata": {},
   "outputs": [
    {
     "name": "stdout",
     "output_type": "stream",
     "text": [
      "Models trained successfully\n",
      "Logistic Regression trained\n",
      "Decision Tree trained\n"
     ]
    }
   ],
   "source": [
    "# Train the models\n",
    "logistic_model.fit(X_train, y_train)\n",
    "decision_tree_model.fit(X_train, y_train)\n",
    "\n",
    "print(\"Models trained successfully\")\n",
    "print(\"Logistic Regression trained\")\n",
    "print(\"Decision Tree trained\")"
   ]
  },
  {
   "cell_type": "code",
   "execution_count": 26,
   "metadata": {},
   "outputs": [
    {
     "name": "stdout",
     "output_type": "stream",
     "text": [
      "Predictions made for both models\n"
     ]
    }
   ],
   "source": [
    "# Make predictions\n",
    "y_pred_logistic = logistic_model.predict(X_test)\n",
    "y_pred_tree = decision_tree_model.predict(X_test)\n",
    "\n",
    "print(\"Predictions made for both models\")"
   ]
  },
  {
   "cell_type": "code",
   "execution_count": 27,
   "metadata": {},
   "outputs": [
    {
     "name": "stdout",
     "output_type": "stream",
     "text": [
      "=== Logistic Regression Performance ===\n",
      "Accuracy: 0.865\n",
      "Precision: 0.6086956521739131\n",
      "Recall: 0.19310344827586207\n",
      "F1-Score: 0.29319371727748694\n",
      "\n",
      "=== Decision Tree Performance ===\n",
      "Accuracy: 0.875\n",
      "Precision: 0.5746268656716418\n",
      "Recall: 0.5310344827586206\n",
      "F1-Score: 0.5519713261648745\n"
     ]
    }
   ],
   "source": [
    "# Evaluate models\n",
    "from sklearn.metrics import accuracy_score, precision_score, recall_score, f1_score, roc_auc_score\n",
    "\n",
    "print(\"=== Logistic Regression Performance ===\")\n",
    "print(\"Accuracy:\", accuracy_score(y_test, y_pred_logistic))\n",
    "print(\"Precision:\", precision_score(y_test, y_pred_logistic))\n",
    "print(\"Recall:\", recall_score(y_test, y_pred_logistic))\n",
    "print(\"F1-Score:\", f1_score(y_test, y_pred_logistic))\n",
    "\n",
    "print(\"\\n=== Decision Tree Performance ===\")\n",
    "print(\"Accuracy:\", accuracy_score(y_test, y_pred_tree))\n",
    "print(\"Precision:\", precision_score(y_test, y_pred_tree))\n",
    "print(\"Recall:\", recall_score(y_test, y_pred_tree))\n",
    "print(\"F1-Score:\", f1_score(y_test, y_pred_tree))"
   ]
  },
  {
   "cell_type": "code",
   "execution_count": 28,
   "metadata": {},
   "outputs": [
    {
     "name": "stdout",
     "output_type": "stream",
     "text": [
      "ROC-AUC Scores:\n",
      "Logistic Regression: 0.7393748739665255\n",
      "Decision Tree: 0.732183908045977\n"
     ]
    }
   ],
   "source": [
    "# ROC-AUC scores\n",
    "y_pred_proba_logistic = logistic_model.predict_proba(X_test)[:, 1]\n",
    "y_pred_proba_tree = decision_tree_model.predict_proba(X_test)[:, 1]\n",
    "\n",
    "print(\"ROC-AUC Scores:\")\n",
    "print(\"Logistic Regression:\", roc_auc_score(y_test, y_pred_proba_logistic))\n",
    "print(\"Decision Tree:\", roc_auc_score(y_test, y_pred_proba_tree))"
   ]
  },
  {
   "cell_type": "code",
   "execution_count": 29,
   "metadata": {},
   "outputs": [
    {
     "name": "stdout",
     "output_type": "stream",
     "text": [
      "=== Performance vs Targets ===\n",
      "Logistic Regression - AUC: 0.739 (Target: >0.85)\n",
      "Logistic Regression - Recall: 0.193 (Target: >0.80)\n",
      "Decision Tree - AUC: 0.732 (Target: >0.85)\n",
      "Decision Tree - Recall: 0.531 (Target: >0.80)\n"
     ]
    }
   ],
   "source": [
    "# Compare with performance targets\n",
    "print(\"=== Performance vs Targets ===\")\n",
    "logistic_auc = roc_auc_score(y_test, y_pred_proba_logistic)\n",
    "tree_auc = roc_auc_score(y_test, y_pred_proba_tree)\n",
    "\n",
    "logistic_recall = recall_score(y_test, y_pred_logistic)\n",
    "tree_recall = recall_score(y_test, y_pred_tree)\n",
    "\n",
    "print(f\"Logistic Regression - AUC: {logistic_auc:.3f} (Target: >0.85)\")\n",
    "print(f\"Logistic Regression - Recall: {logistic_recall:.3f} (Target: >0.80)\")\n",
    "\n",
    "print(f\"Decision Tree - AUC: {tree_auc:.3f} (Target: >0.85)\")\n",
    "print(f\"Decision Tree - Recall: {tree_recall:.3f} (Target: >0.80)\")"
   ]
  },
  {
   "cell_type": "code",
   "execution_count": 30,
   "metadata": {},
   "outputs": [
    {
     "name": "stdout",
     "output_type": "stream",
     "text": [
      "=== Confusion Matrices ===\n",
      "Logistic Regression:\n",
      "[[837  18]\n",
      " [117  28]]\n",
      "\n",
      "Decision Tree:\n",
      "[[798  57]\n",
      " [ 68  77]]\n"
     ]
    }
   ],
   "source": [
    "# Confusion matrices\n",
    "from sklearn.metrics import confusion_matrix\n",
    "\n",
    "print(\"=== Confusion Matrices ===\")\n",
    "print(\"Logistic Regression:\")\n",
    "print(confusion_matrix(y_test, y_pred_logistic))\n",
    "print(\"\\nDecision Tree:\")\n",
    "print(confusion_matrix(y_test, y_pred_tree))"
   ]
  },
  {
   "cell_type": "code",
   "execution_count": 31,
   "metadata": {},
   "outputs": [
    {
     "name": "stdout",
     "output_type": "stream",
     "text": [
      "Top 10 Most Important Features (Decision Tree):\n",
      "                   feature  importance\n",
      "3        total_day_minutes    0.249976\n",
      "5        total_eve_minutes    0.142525\n",
      "11  customer_service_calls    0.119244\n",
      "2    number_vmail_messages    0.103096\n",
      "9       total_intl_minutes    0.061653\n",
      "6          total_eve_calls    0.055669\n",
      "0           account_length    0.045818\n",
      "4          total_day_calls    0.037311\n",
      "7      total_night_minutes    0.035369\n",
      "8        total_night_calls    0.031233\n"
     ]
    }
   ],
   "source": [
    "# Feature importance for Decision Tree\n",
    "feature_importance = pd.DataFrame({\n",
    "    'feature': X.columns,\n",
    "    'importance': decision_tree_model.feature_importances_\n",
    "}).sort_values('importance', ascending=False)\n",
    "\n",
    "print(\"Top 10 Most Important Features (Decision Tree):\")\n",
    "print(feature_importance.head(10))"
   ]
  },
  {
   "cell_type": "code",
   "execution_count": 32,
   "metadata": {},
   "outputs": [
    {
     "name": "stdout",
     "output_type": "stream",
     "text": [
      "=== Model Comparison ===\n"
     ]
    },
    {
     "data": {
      "text/html": [
       "<div>\n",
       "<style scoped>\n",
       "    .dataframe tbody tr th:only-of-type {\n",
       "        vertical-align: middle;\n",
       "    }\n",
       "\n",
       "    .dataframe tbody tr th {\n",
       "        vertical-align: top;\n",
       "    }\n",
       "\n",
       "    .dataframe thead th {\n",
       "        text-align: right;\n",
       "    }\n",
       "</style>\n",
       "<table border=\"1\" class=\"dataframe\">\n",
       "  <thead>\n",
       "    <tr style=\"text-align: right;\">\n",
       "      <th></th>\n",
       "      <th>Model</th>\n",
       "      <th>Accuracy</th>\n",
       "      <th>Precision</th>\n",
       "      <th>Recall</th>\n",
       "      <th>F1-Score</th>\n",
       "      <th>ROC-AUC</th>\n",
       "    </tr>\n",
       "  </thead>\n",
       "  <tbody>\n",
       "    <tr>\n",
       "      <th>0</th>\n",
       "      <td>Logistic Regression</td>\n",
       "      <td>0.865</td>\n",
       "      <td>0.609</td>\n",
       "      <td>0.193</td>\n",
       "      <td>0.293</td>\n",
       "      <td>0.739</td>\n",
       "    </tr>\n",
       "    <tr>\n",
       "      <th>1</th>\n",
       "      <td>Decision Tree</td>\n",
       "      <td>0.875</td>\n",
       "      <td>0.575</td>\n",
       "      <td>0.531</td>\n",
       "      <td>0.552</td>\n",
       "      <td>0.732</td>\n",
       "    </tr>\n",
       "  </tbody>\n",
       "</table>\n",
       "</div>"
      ],
      "text/plain": [
       "                 Model  Accuracy  Precision  Recall  F1-Score  ROC-AUC\n",
       "0  Logistic Regression     0.865      0.609   0.193     0.293    0.739\n",
       "1        Decision Tree     0.875      0.575   0.531     0.552    0.732"
      ]
     },
     "metadata": {},
     "output_type": "display_data"
    }
   ],
   "source": [
    "# Model comparison summary\n",
    "results = {\n",
    "    'Model': ['Logistic Regression', 'Decision Tree'],\n",
    "    'Accuracy': [accuracy_score(y_test, y_pred_logistic), accuracy_score(y_test, y_pred_tree)],\n",
    "    'Precision': [precision_score(y_test, y_pred_logistic), precision_score(y_test, y_pred_tree)],\n",
    "    'Recall': [recall_score(y_test, y_pred_logistic), recall_score(y_test, y_pred_tree)],\n",
    "    'F1-Score': [f1_score(y_test, y_pred_logistic), f1_score(y_test, y_pred_tree)],\n",
    "    'ROC-AUC': [roc_auc_score(y_test, y_pred_proba_logistic), roc_auc_score(y_test, y_pred_proba_tree)]\n",
    "}\n",
    "\n",
    "results_df = pd.DataFrame(results)\n",
    "print(\"=== Model Comparison ===\")\n",
    "display(results_df.round(3))"
   ]
  },
  {
   "cell_type": "code",
   "execution_count": 33,
   "metadata": {},
   "outputs": [
    {
     "name": "stdout",
     "output_type": "stream",
     "text": [
      "=== Business Impact Analysis ===\n",
      "High-risk customers identified (>70% churn probability):\n",
      "Logistic Regression: 4\n",
      "Decision Tree: 134\n",
      "\n",
      "Potential cost savings:\n",
      "Logistic Regression: $1,400\n",
      "Decision Tree: $46,900\n"
     ]
    }
   ],
   "source": [
    "# Business impact analysis\n",
    "print(\"=== Business Impact Analysis ===\")\n",
    "\n",
    "# Calculate high-risk customers\n",
    "high_risk_logistic = (y_pred_proba_logistic > 0.7).sum()\n",
    "high_risk_tree = (y_pred_proba_tree > 0.7).sum()\n",
    "\n",
    "print(f\"High-risk customers identified (>70% churn probability):\")\n",
    "print(f\"Logistic Regression: {high_risk_logistic}\")\n",
    "print(f\"Decision Tree: {high_risk_tree}\")\n",
    "\n",
    "# Cost savings\n",
    "potential_savings_logistic = high_risk_logistic * (450 - 100)\n",
    "potential_savings_tree = high_risk_tree * (450 - 100)\n",
    "\n",
    "print(f\"\\nPotential cost savings:\")\n",
    "print(f\"Logistic Regression: ${potential_savings_logistic:,}\")\n",
    "print(f\"Decision Tree: ${potential_savings_tree:,}\")"
   ]
  },
  {
   "cell_type": "code",
   "execution_count": 34,
   "metadata": {},
   "outputs": [
    {
     "name": "stdout",
     "output_type": "stream",
     "text": [
      "Best model selected: Decision Tree\n",
      "Best model recall: 0.531\n"
     ]
    }
   ],
   "source": [
    "# Select best model based on recall (most important for business)\n",
    "if recall_score(y_test, y_pred_logistic) > recall_score(y_test, y_pred_tree):\n",
    "    best_model = logistic_model\n",
    "    best_model_name = \"Logistic Regression\"\n",
    "else:\n",
    "    best_model = decision_tree_model\n",
    "    best_model_name = \"Decision Tree\"\n",
    "\n",
    "print(f\"Best model selected: {best_model_name}\")\n",
    "print(f\"Best model recall: {max(recall_score(y_test, y_pred_logistic), recall_score(y_test, y_pred_tree)):.3f}\")"
   ]
  },
  {
   "cell_type": "code",
   "execution_count": 35,
   "metadata": {},
   "outputs": [
    {
     "name": "stdout",
     "output_type": "stream",
     "text": [
      "=== Final Recommendations ===\n",
      "1. Deploy the Decision Tree for churn prediction\n",
      "2. Focus retention efforts on customers with >70% churn probability\n",
      "3. Monitor model performance monthly and retrain as needed\n",
      "4. Use feature insights to improve customer experience\n"
     ]
    }
   ],
   "source": [
    "# Final recommendations\n",
    "print(\"=== Final Recommendations ===\")\n",
    "print(\"1. Deploy the\", best_model_name, \"for churn prediction\")\n",
    "print(\"2. Focus retention efforts on customers with >70% churn probability\")\n",
    "print(\"3. Monitor model performance monthly and retrain as needed\")\n",
    "print(\"4. Use feature insights to improve customer experience\")\n"
   ]
  },
  {
   "cell_type": "code",
   "execution_count": null,
   "metadata": {},
   "outputs": [],
   "source": []
  }
 ],
 "metadata": {
  "kernelspec": {
   "display_name": "Python 3",
   "language": "python",
   "name": "python3"
  },
  "language_info": {
   "codemirror_mode": {
    "name": "ipython",
    "version": 3
   },
   "file_extension": ".py",
   "mimetype": "text/x-python",
   "name": "python",
   "nbconvert_exporter": "python",
   "pygments_lexer": "ipython3",
   "version": "3.8.5"
  }
 },
 "nbformat": 4,
 "nbformat_minor": 4
}
